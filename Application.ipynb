{
 "cells": [
  {
   "cell_type": "code",
   "execution_count": 1,
   "id": "6c49766c",
   "metadata": {},
   "outputs": [],
   "source": [
    "import tkinter as tk\n",
    "from tkinter import filedialog, messagebox\n",
    "from PIL import Image, ImageTk\n",
    "import cv2 as cv\n",
    "import numpy as np\n",
    "from keras.models import load_model"
   ]
  },
  {
   "cell_type": "code",
   "execution_count": 2,
   "id": "8b821f63",
   "metadata": {},
   "outputs": [],
   "source": [
    "# Load the pre-trained model\n",
    "model = load_model('best_model.keras') "
   ]
  },
  {
   "cell_type": "code",
   "execution_count": 3,
   "id": "bdedf3d0",
   "metadata": {},
   "outputs": [],
   "source": [
    "\n",
    "# Dictionary mapping numeric labels to alphabet letters\n",
    "dict_word = {0:'A', 1:'B', 2:'C', 3:'D', 4:'E', 5:'F', 6:'G', 7:'H', 8:'I', 9:'J',\n",
    "             10:'K', 11:'L', 12:'M', 13:'N', 14:'O', 15:'P', 16:'Q', 17:'R', 18:'S',\n",
    "             19:'T', 20:'U', 21:'V', 22:'W', 23:'X', 24:'Y', 25:'Z'}"
   ]
  },
  {
   "cell_type": "code",
   "execution_count": 4,
   "id": "d99760d4",
   "metadata": {},
   "outputs": [],
   "source": [
    "\n",
    "# Function to preprocess and predict image\n",
    "def predict_image(img_path):\n",
    "    try:\n",
    "        # Load and preprocess the image\n",
    "        img = cv.imread(img_path)\n",
    "        img = cv.cvtColor(img, cv.COLOR_BGR2GRAY)  # Convert to grayscale\n",
    "        img = cv.medianBlur(img, 5)  # Apply median blur\n",
    "        ret, img = cv.threshold(img, 75, 180, cv.THRESH_BINARY)  # Apply thresholding\n",
    "        element = cv.getStructuringElement(cv.MORPH_RECT, (90, 90))\n",
    "        img = cv.morphologyEx(img, cv.MORPH_GRADIENT, element)  # Apply morphological gradient\n",
    "        img = img / 255.0  # Normalize image\n",
    "        img = cv.resize(img, (28, 28))  # Resize to 28x28 pixels\n",
    "        img = np.reshape(img, (1, 28, 28, 1))  # Reshape for model input\n",
    "\n",
    "        # Predict using the model\n",
    "        pred_label = dict_word[np.argmax(model.predict(img))]  # Predict using the model\n",
    "        return pred_label\n",
    "\n",
    "    except Exception as e:\n",
    "        messagebox.showerror(\"Error\", f\"Error predicting image: {e}\")\n",
    "        return None"
   ]
  },
  {
   "cell_type": "code",
   "execution_count": 5,
   "id": "9098ed41",
   "metadata": {},
   "outputs": [],
   "source": [
    "def select_image():\n",
    "    file_path = filedialog.askopenfilename(filetypes=[(\"Image files\", \"*.jpg;*.jpeg;*.png\")])\n",
    "    if file_path:\n",
    "        pred_label = predict_image(file_path)\n",
    "        if pred_label:\n",
    "            # Display the prediction\n",
    "            lbl_prediction.config(text=f\"Prediction: {pred_label}\")\n",
    "\n",
    "            # Display the image in the panel\n",
    "            img = Image.open(file_path)\n",
    "            img = img.resize((400, 400), Image.LANCZOS)  # Use LANCZOS for resizing\n",
    "            img = ImageTk.PhotoImage(img)\n",
    "            panel.config(image=img)\n",
    "            panel.image = img "
   ]
  },
  {
   "cell_type": "code",
   "execution_count": 6,
   "id": "17cc7b80",
   "metadata": {},
   "outputs": [],
   "source": [
    "\n",
    "# Create the main application window\n",
    "root = tk.Tk()\n",
    "root.title(\"Image Predictor\")\n",
    "\n",
    "# Set window size and position\n",
    "window_width = 800\n",
    "window_height = 600\n",
    "screen_width = root.winfo_screenwidth()\n",
    "screen_height = root.winfo_screenheight()\n",
    "x_position = int((screen_width - window_width) / 2)\n",
    "y_position = int((screen_height - window_height) / 2)\n",
    "root.geometry(f\"{window_width}x{window_height}+{x_position}+{y_position}\")\n",
    "\n",
    "# Change background color\n",
    "root.configure(bg='lightblue')  # Adjust the color as desired\n",
    "\n",
    "# Create and pack widgets with larger font and padding\n",
    "lbl_info = tk.Label(root, text=\"Select an image to predict:\", font=(\"Helvetica\", 20), bg='lightblue')\n",
    "lbl_info.pack(pady=20)\n",
    "\n",
    "# Frame for holding the button and text entry\n",
    "frame = tk.Frame(root, bg='lightblue')\n",
    "frame.pack(pady=20)\n",
    "\n",
    "# Create prediction label widget\n",
    "lbl_prediction = tk.Label(root, text=\"\", font=(\"Helvetica\", 18, \"bold\"), fg='green', bg='lightblue')\n",
    "lbl_prediction.pack(pady=10)\n",
    "\n",
    "# Create a panel to display the image\n",
    "panel = tk.Label(root, bg='white', width=400, height=400)\n",
    "panel.pack(pady=20)\n",
    "\n",
    "# Create select button\n",
    "btn_select = tk.Button(frame, text=\"Select Image\", font=(\"Helvetica\", 16), command=select_image)\n",
    "btn_select.pack(pady=10)"
   ]
  },
  {
   "cell_type": "code",
   "execution_count": 7,
   "id": "63f8a434",
   "metadata": {},
   "outputs": [
    {
     "name": "stdout",
     "output_type": "stream",
     "text": [
      "\u001b[1m1/1\u001b[0m \u001b[32m━━━━━━━━━━━━━━━━━━━━\u001b[0m\u001b[37m\u001b[0m \u001b[1m0s\u001b[0m 333ms/step\n"
     ]
    }
   ],
   "source": [
    "\n",
    "# Run the main loop\n",
    "root.mainloop()\n",
    "\n"
   ]
  },
  {
   "cell_type": "code",
   "execution_count": null,
   "id": "66c1987e",
   "metadata": {},
   "outputs": [],
   "source": []
  }
 ],
 "metadata": {
  "kernelspec": {
   "display_name": "Python 3 (ipykernel)",
   "language": "python",
   "name": "python3"
  },
  "language_info": {
   "codemirror_mode": {
    "name": "ipython",
    "version": 3
   },
   "file_extension": ".py",
   "mimetype": "text/x-python",
   "name": "python",
   "nbconvert_exporter": "python",
   "pygments_lexer": "ipython3",
   "version": "3.11.3"
  }
 },
 "nbformat": 4,
 "nbformat_minor": 5
}
